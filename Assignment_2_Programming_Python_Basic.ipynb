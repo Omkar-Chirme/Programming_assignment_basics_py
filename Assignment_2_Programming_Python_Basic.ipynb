{
 "cells": [
  {
   "cell_type": "markdown",
   "metadata": {},
   "source": [
    "# Assignment 2\n",
    "## Programming Python Basics"
   ]
  },
  {
   "cell_type": "markdown",
   "metadata": {},
   "source": [
    "**Write a Python program to convert kilometers to miles?**\n"
   ]
  },
  {
   "cell_type": "code",
   "execution_count": 10,
   "metadata": {},
   "outputs": [
    {
     "name": "stdout",
     "output_type": "stream",
     "text": [
      "100 km is euqal to 62.137 miles\n"
     ]
    }
   ],
   "source": [
    "km = int(input(\"Enter kilometer value: \"))\n",
    "\n",
    "\n",
    "mi=km*0.62137\n",
    "print(\"{} km is euqal to {} miles\".format(km,mi))"
   ]
  },
  {
   "cell_type": "markdown",
   "metadata": {},
   "source": [
    "**Write a Python program to convert Celsius to Fahrenheit?**\n"
   ]
  },
  {
   "cell_type": "code",
   "execution_count": 12,
   "metadata": {},
   "outputs": [
    {
     "name": "stdout",
     "output_type": "stream",
     "text": [
      "100 Celsius is equal to 212.0 Fahrenheit.\n"
     ]
    }
   ],
   "source": [
    "cel = int(input(\"Enter temperature in degree celsius: \"))\n",
    "far = (9/5)*cel+32\n",
    "print(\"{} Celsius is equal to {} Fahrenheit.\".format(cel,far))"
   ]
  },
  {
   "cell_type": "markdown",
   "metadata": {},
   "source": [
    "**Write a Python program to display calendar?**\n"
   ]
  },
  {
   "cell_type": "code",
   "execution_count": 1,
   "metadata": {},
   "outputs": [
    {
     "name": "stdout",
     "output_type": "stream",
     "text": [
      "    January 2022\n",
      "Mo Tu We Th Fr Sa Su\n",
      "                1  2\n",
      " 3  4  5  6  7  8  9\n",
      "10 11 12 13 14 15 16\n",
      "17 18 19 20 21 22 23\n",
      "24 25 26 27 28 29 30\n",
      "31\n",
      "\n"
     ]
    }
   ],
   "source": [
    "import calendar\n",
    "\n",
    "yy = int(input(\"Enter four digit year: \"))\n",
    "mm = int(input(\"Enter number of month: \"))\n",
    "print(calendar.month(yy,mm))"
   ]
  },
  {
   "cell_type": "markdown",
   "metadata": {},
   "source": [
    "**Write a Python program to solve quadratic equation?**\n"
   ]
  },
  {
   "cell_type": "code",
   "execution_count": 13,
   "metadata": {},
   "outputs": [
    {
     "name": "stdout",
     "output_type": "stream",
     "text": [
      "Coefficient of x^2 cannot be zero\n",
      "coefficients of equations are 1,10,-24 resp.\n",
      " real and different roots \n",
      "2.0\n",
      "-12.0\n"
     ]
    }
   ],
   "source": [
    "import math\n",
    "a = int(input(\"Enter coefficient of x^2: \"))\n",
    "while  a==0:\n",
    "\n",
    "        print(\"Coefficient of x^2 cannot be zero\")\n",
    "        a = int(input(\"Enter coefficient of x^2: \"))\n",
    "        b = int(input(\"Enter coefficient of x: \"))\n",
    "        c = int(input(\"Enter coefficient of constant: \"))\n",
    "else:\n",
    "    print(\"coefficients of equations are {},{},{} resp.\".format(a,b,c))\n",
    "\n",
    "\n",
    "\n",
    "dis = b*b-4*a*c\n",
    "sqrt_val = math.sqrt(abs(dis))\n",
    "\n",
    "if dis > 0:\n",
    "    print(\" real and different roots \") \n",
    "    print((-b + sqrt_val)/(2 * a)) \n",
    "    print((-b - sqrt_val)/(2 * a)) \n",
    "      \n",
    "elif dis == 0: \n",
    "    print(\" real and same roots\") \n",
    "    print(-b / (2 * a)) \n",
    "else:\n",
    "    print(\"Complex Roots\") \n",
    "    print(- b / (2 * a), \" + i\", sqrt_val) \n",
    "    print(- b / (2 * a), \" - i\", sqrt_val) \n",
    "\n"
   ]
  },
  {
   "cell_type": "markdown",
   "metadata": {},
   "source": [
    "**Write a Python program to swap two variables without temp variable?**\n"
   ]
  },
  {
   "cell_type": "code",
   "execution_count": 1,
   "metadata": {},
   "outputs": [
    {
     "name": "stdout",
     "output_type": "stream",
     "text": [
      "9\n",
      "4\n"
     ]
    }
   ],
   "source": [
    "a = 4\n",
    "b = 9\n",
    "a,b=b,a\n",
    "print(a)\n",
    "print(b)"
   ]
  }
 ],
 "metadata": {
  "interpreter": {
   "hash": "55cdaa35f3bf328455cc90222d006bc0ecee02538e8f35de15acd39e8589c932"
  },
  "kernelspec": {
   "display_name": "Python 3.8.8 64-bit ('base': conda)",
   "language": "python",
   "name": "python3"
  },
  "language_info": {
   "codemirror_mode": {
    "name": "ipython",
    "version": 3
   },
   "file_extension": ".py",
   "mimetype": "text/x-python",
   "name": "python",
   "nbconvert_exporter": "python",
   "pygments_lexer": "ipython3",
   "version": "3.9.5"
  },
  "orig_nbformat": 4
 },
 "nbformat": 4,
 "nbformat_minor": 2
}
